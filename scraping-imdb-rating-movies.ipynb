{
 "cells": [
  {
   "cell_type": "markdown",
   "metadata": {},
   "source": [
    "# What’s Web Scraping?\n",
    "\n",
    "Web scraping consists of gathering data available on websites. This can be done manually by a human or by using a bot. A bot is a program you build that helps you extract the data you need much quicker than a human’s hand and eyes can."
   ]
  },
  {
   "cell_type": "markdown",
   "metadata": {},
   "source": [
    "# What Are We Going to Scrape?\n",
    "It’s essential to identify the goal of your scraping right from the start. We don’t want to scrape any data we don’t actually need. For this project, we’ll scrape data from IMDb’s “Top 1,000” movies, specifically the top 50 movies on this page. Here is the information we’ll gather from each movie listing:\n",
    "\n",
    "- The title\n",
    "- The year it was released\n",
    "- Movie Genre\n",
    "- Movie Certificate\n",
    "- How long the movie is\n",
    "- IMDb’s rating of the movie\n",
    "- The Metascore of the movie\n",
    "- How many votes the movie got\n",
    "- The U.S. gross earnings of the movie"
   ]
  },
  {
   "cell_type": "code",
   "execution_count": 15,
   "metadata": {},
   "outputs": [],
   "source": [
    "import requests #packages that is used to download the content from web\n",
    "import urllib # packages that is used to work with URL libraries\n",
    "import requests #package built to make HTTP requests user friendly\n",
    "import os # package used for file process\n",
    "import re # package for regular expression - best to have it dont know if it is required or not\n",
    "from bs4 import BeautifulSoup #a Python library for pulling data out of HTML and XML files\n",
    "import pandas as pd # the omnipresent of all python to work with dataframes\n"
   ]
  },
  {
   "cell_type": "code",
   "execution_count": 16,
   "metadata": {},
   "outputs": [],
   "source": [
    "# Define website to scrap and store the link.\n",
    "imdb_url = 'https://www.imdb.com/search/title/?title_type=feature&year=1990-01-01,1990-12-31&count=100&start=1&ref_=adv_nxt' \n",
    "imdb_resp = requests.get(imdb_url) #get the content of the url from the request package."
   ]
  },
  {
   "cell_type": "code",
   "execution_count": 17,
   "metadata": {},
   "outputs": [],
   "source": [
    "imdb_soup = BeautifulSoup(imdb_resp.text, 'html.parser')"
   ]
  },
  {
   "cell_type": "markdown",
   "metadata": {},
   "source": [
    "Let's create a helper function 'create_doc' that will take a url as an argument and carry out all the process we followed above to return a BeautifulSoup object."
   ]
  },
  {
   "cell_type": "code",
   "execution_count": 18,
   "metadata": {},
   "outputs": [],
   "source": [
    "def docs(url):\n",
    "    # download page using requests library.\n",
    "    response = requests.get(url)\n",
    "    # check if the web page was successfully downloaded.\n",
    "    if response1.status_code != 200:\n",
    "        return \"Page not successfully downloaded\"\n",
    "    contents = response1.text\n",
    "    \n",
    "    # convert contents into BeautifulSoup object\n",
    "    soup = BeautifulSoup(page_contents, 'html.parser')\n",
    "    return soup"
   ]
  },
  {
   "cell_type": "markdown",
   "metadata": {},
   "source": [
    "Extract the following detail for the movies list:\n",
    "\n",
    "- name\n",
    "- year\n",
    "- rating\n",
    "- certificate\n",
    "- duration\n",
    "- genre\n",
    "- metascore\n",
    "- votes\n",
    "- gross"
   ]
  },
  {
   "cell_type": "code",
   "execution_count": 22,
   "metadata": {},
   "outputs": [
    {
     "name": "stdout",
     "output_type": "stream",
     "text": [
      "Containers is of type:  <class 'bs4.element.ResultSet'>\n",
      "Number of movies in the container: 100\n"
     ]
    }
   ],
   "source": [
    "imdb_containers = imdb_soup.find_all(\"div\",{\"class\" : \"lister-item mode-advanced\"}) # get all the containers \n",
    "print('Containers is of type: ',type(imdb_containers)) # check the type \n",
    "print('Number of movies in the container:',len(imdb_containers)) # number of movies in the container"
   ]
  },
  {
   "cell_type": "code",
   "execution_count": 23,
   "metadata": {},
   "outputs": [
    {
     "name": "stdout",
     "output_type": "stream",
     "text": [
      "What is the data type of movie: <class 'bs4.element.Tag'>\n",
      "details of the movie:  7\n"
     ]
    }
   ],
   "source": [
    "imdb_1 = imdb_containers[0] # get the first movie from the container\n",
    "print('What is the data type of movie:',type(imdb_1)) # observe the tag of the first movie\n",
    "print('details of the movie: ', len(imdb_1))"
   ]
  },
  {
   "cell_type": "code",
   "execution_count": 24,
   "metadata": {},
   "outputs": [
    {
     "data": {
      "text/plain": [
       "<div class=\"lister-top-right\">\n",
       "<div class=\"ribbonize\" data-caller=\"filmosearch\" data-tconst=\"tt0099685\"></div>\n",
       "</div>"
      ]
     },
     "execution_count": 24,
     "metadata": {},
     "output_type": "execute_result"
    }
   ],
   "source": [
    "imdb_1.div"
   ]
  },
  {
   "cell_type": "code",
   "execution_count": 25,
   "metadata": {},
   "outputs": [
    {
     "data": {
      "text/plain": [
       "<a href=\"/title/tt0099685/\"> <img alt=\"Goodfellas\" class=\"loadlate\" data-tconst=\"tt0099685\" height=\"98\" loadlate=\"https://m.media-amazon.com/images/M/MV5BY2NkZjEzMDgtN2RjYy00YzM1LWI4ZmQtMjIwYjFjNmI3ZGEwXkEyXkFqcGdeQXVyNzkwMjQ5NzM@._V1_UX67_CR0,0,67,98_AL_.jpg\" src=\"https://m.media-amazon.com/images/S/sash/4FyxwxECzL-U1J8.png\" width=\"67\"/>\n",
       "</a>"
      ]
     },
     "execution_count": 25,
     "metadata": {},
     "output_type": "execute_result"
    }
   ],
   "source": [
    "imdb_1.a # a or anchor tag defines the href which is hypertext"
   ]
  },
  {
   "cell_type": "code",
   "execution_count": 26,
   "metadata": {},
   "outputs": [
    {
     "data": {
      "text/plain": [
       "<h3 class=\"lister-item-header\">\n",
       "<span class=\"lister-item-index unbold text-primary\">1.</span>\n",
       "<a href=\"/title/tt0099685/\">Goodfellas</a>\n",
       "<span class=\"lister-item-year text-muted unbold\">(1990)</span>\n",
       "</h3>"
      ]
     },
     "execution_count": 26,
     "metadata": {},
     "output_type": "execute_result"
    }
   ],
   "source": [
    "imdb_1.h3 "
   ]
  },
  {
   "cell_type": "code",
   "execution_count": 27,
   "metadata": {},
   "outputs": [
    {
     "data": {
      "text/plain": [
       "<a href=\"/title/tt0099685/\">Goodfellas</a>"
      ]
     },
     "execution_count": 27,
     "metadata": {},
     "output_type": "execute_result"
    }
   ],
   "source": [
    "imdb_1.h3.a"
   ]
  },
  {
   "cell_type": "code",
   "execution_count": 28,
   "metadata": {},
   "outputs": [
    {
     "data": {
      "text/plain": [
       "'Goodfellas'"
      ]
     },
     "execution_count": 28,
     "metadata": {},
     "output_type": "execute_result"
    }
   ],
   "source": [
    "movie_name = imdb_1.h3.a.text # Get The movie Title\n",
    "movie_name"
   ]
  },
  {
   "cell_type": "code",
   "execution_count": 29,
   "metadata": {},
   "outputs": [
    {
     "data": {
      "text/plain": [
       "'(1990)'"
      ]
     },
     "execution_count": 29,
     "metadata": {},
     "output_type": "execute_result"
    }
   ],
   "source": [
    "movie_year = imdb_1.h3.find('span', class_ = 'lister-item-year text-muted unbold').text # Get Movie Year's\n",
    "movie_year"
   ]
  },
  {
   "cell_type": "code",
   "execution_count": 30,
   "metadata": {},
   "outputs": [
    {
     "data": {
      "text/plain": [
       "<strong>8.7</strong>"
      ]
     },
     "execution_count": 30,
     "metadata": {},
     "output_type": "execute_result"
    }
   ],
   "source": [
    "imdb_1.strong"
   ]
  },
  {
   "cell_type": "code",
   "execution_count": 31,
   "metadata": {},
   "outputs": [
    {
     "data": {
      "text/plain": [
       "8.7"
      ]
     },
     "execution_count": 31,
     "metadata": {},
     "output_type": "execute_result"
    }
   ],
   "source": [
    "# convert to float as expecting to see some decimal places for rating\n",
    "movie_rating = float(imdb_1.strong.text) \n",
    "movie_rating"
   ]
  },
  {
   "cell_type": "code",
   "execution_count": 32,
   "metadata": {},
   "outputs": [
    {
     "data": {
      "text/plain": [
       "<span class=\"certificate\">A</span>"
      ]
     },
     "execution_count": 32,
     "metadata": {},
     "output_type": "execute_result"
    }
   ],
   "source": [
    "imdb_1.find('span', class_ = 'certificate') # Getting the certificate for the movie"
   ]
  },
  {
   "cell_type": "code",
   "execution_count": 33,
   "metadata": {},
   "outputs": [
    {
     "data": {
      "text/plain": [
       "'A'"
      ]
     },
     "execution_count": 33,
     "metadata": {},
     "output_type": "execute_result"
    }
   ],
   "source": [
    "movie_certificate = imdb_1.find('span', class_ = 'certificate').text\n",
    "movie_certificate"
   ]
  },
  {
   "cell_type": "markdown",
   "metadata": {},
   "source": [
    "Not all movies are rated so lets create a helper function to put a 'Not Rated' where certificate are not available"
   ]
  },
  {
   "cell_type": "code",
   "execution_count": 34,
   "metadata": {},
   "outputs": [],
   "source": [
    "def get_certificate(imdb):\n",
    "    # cases where there is no certificate assigned - lets give default as Not Rated\n",
    "    if imdb.find('span', class_ = 'certificate') is not None:\n",
    "        cert = imdb.find('span', class_ = 'certificate').text\n",
    "    else:\n",
    "        cert = 'Not Rated'\n",
    "    return cert"
   ]
  },
  {
   "cell_type": "code",
   "execution_count": 35,
   "metadata": {},
   "outputs": [
    {
     "data": {
      "text/plain": [
       "'A'"
      ]
     },
     "execution_count": 35,
     "metadata": {},
     "output_type": "execute_result"
    }
   ],
   "source": [
    "get_certificate(imdb_1)"
   ]
  },
  {
   "cell_type": "code",
   "execution_count": 36,
   "metadata": {},
   "outputs": [
    {
     "data": {
      "text/plain": [
       "'146 min'"
      ]
     },
     "execution_count": 36,
     "metadata": {},
     "output_type": "execute_result"
    }
   ],
   "source": [
    "movie_runtime = imdb_1.find('span', class_ = 'runtime').text # Get Movie runtime\n",
    "movie_runtime"
   ]
  },
  {
   "cell_type": "code",
   "execution_count": 37,
   "metadata": {},
   "outputs": [
    {
     "data": {
      "text/plain": [
       "'\\nBiography, Crime, Drama            '"
      ]
     },
     "execution_count": 37,
     "metadata": {},
     "output_type": "execute_result"
    }
   ],
   "source": [
    "movie_genre = imdb_1.find('span', class_ = 'genre').text # Get Movie Genre\n",
    "movie_genre"
   ]
  },
  {
   "cell_type": "code",
   "execution_count": 38,
   "metadata": {},
   "outputs": [
    {
     "data": {
      "text/plain": [
       "'Biography, Crime, Drama'"
      ]
     },
     "execution_count": 38,
     "metadata": {},
     "output_type": "execute_result"
    }
   ],
   "source": [
    "movie_genre = movie_genre.strip()\n",
    "movie_genre"
   ]
  },
  {
   "cell_type": "code",
   "execution_count": 39,
   "metadata": {},
   "outputs": [
    {
     "name": "stdout",
     "output_type": "stream",
     "text": [
      "1043030\n"
     ]
    }
   ],
   "source": [
    "# Get Votes \n",
    "v_g_dtl = imdb_1.findAll('span', attrs = {'name' : 'nv'})\n",
    "movie_votes = v_g_dtl[0]['data-value']\n",
    "print(movie_votes)"
   ]
  },
  {
   "cell_type": "code",
   "execution_count": 40,
   "metadata": {},
   "outputs": [
    {
     "name": "stdout",
     "output_type": "stream",
     "text": [
      "$46.84M\n"
     ]
    }
   ],
   "source": [
    "#Get Gross\n",
    "movie_gross = v_g_dtl[1].text\n",
    "print(movie_gross)"
   ]
  },
  {
   "cell_type": "code",
   "execution_count": 41,
   "metadata": {},
   "outputs": [
    {
     "data": {
      "text/plain": [
       "'1043030'"
      ]
     },
     "execution_count": 41,
     "metadata": {},
     "output_type": "execute_result"
    }
   ],
   "source": [
    "#get vote count \n",
    "imdb_1.findAll('span', attrs = {'name' : 'nv'})[0]['data-value']"
   ]
  },
  {
   "cell_type": "code",
   "execution_count": 42,
   "metadata": {},
   "outputs": [
    {
     "data": {
      "text/plain": [
       "'$46.84M'"
      ]
     },
     "execution_count": 42,
     "metadata": {},
     "output_type": "execute_result"
    }
   ],
   "source": [
    "# get gross \n",
    "imdb_1.findAll('span', attrs = {'name' : 'nv'})[1].text"
   ]
  },
  {
   "cell_type": "markdown",
   "metadata": {},
   "source": [
    "Not all movies have gross earned so lets add a helper function to get count and gross with default\n",
    "\n"
   ]
  },
  {
   "cell_type": "code",
   "execution_count": 43,
   "metadata": {},
   "outputs": [],
   "source": [
    "def get_votes_and_gross(imdb):\n",
    "    imdb = imdb.find_all('span',{\"name\":\"nv\"})\n",
    "    votes_and_gross_list = []\n",
    "    for data_value in imdb:\n",
    "        votes_and_gross_list.append(data_value.text)\n",
    "    if(len(imdb)==2):\n",
    "        votes=votes_and_gross_list[0]\n",
    "        gross = votes_and_gross_list[1]\n",
    "    else:\n",
    "        votes=votes_and_gross_list[0]\n",
    "        gross = None\n",
    "    \n",
    "    return votes,gross"
   ]
  },
  {
   "cell_type": "code",
   "execution_count": 44,
   "metadata": {},
   "outputs": [
    {
     "data": {
      "text/plain": [
       "'90'"
      ]
     },
     "execution_count": 44,
     "metadata": {},
     "output_type": "execute_result"
    }
   ],
   "source": [
    "# Get MetaScore\n",
    "movie_mscore = imdb_1.find('span', class_ = 'metascore').text\n",
    "movie_mscore.strip()"
   ]
  },
  {
   "cell_type": "code",
   "execution_count": 45,
   "metadata": {},
   "outputs": [],
   "source": [
    "def meta_score(imdb):\n",
    "    # for most of the movies metascore is not available and for those default to 0\n",
    "    if imdb.find('span', class_ = 'metascore favorable') is not None:\n",
    "        meta = imdb.find('span', class_ = 'metascore favorable').text\n",
    "    else:\n",
    "        meta = '0'\n",
    "    return int(meta)"
   ]
  },
  {
   "cell_type": "code",
   "execution_count": 46,
   "metadata": {},
   "outputs": [],
   "source": [
    "# assign the start page as the start_url and see if the function returns the pages\n",
    "url = 'https://www.imdb.com/search/title/?title_type=feature&year=1990-01-01,1990-12-31&count=100&start=1&ref_=adv_nxt'"
   ]
  },
  {
   "cell_type": "markdown",
   "metadata": {},
   "source": [
    "# Using BeautifulSoup\n",
    "Make the content we grabbed easy to read by using BeautifulSoup:\n",
    "\n",
    "soup is the variable we create to assign the method BeatifulSoup to, which specifies a desired format of results using the HTML parser — this allows Python to read the components of the page rather than treating it as one long string"
   ]
  },
  {
   "cell_type": "code",
   "execution_count": 47,
   "metadata": {},
   "outputs": [],
   "source": [
    "# lets create a helper function to get all the pages.\n",
    "def all_imdb_page(start_url):\n",
    "    all_urls = [] #list to get all urls\n",
    "    url = start_url # begin page\n",
    "    while(url != None):  #Loop around all the required webpages and terminates when last page arive!\n",
    "        all_urls.append(url) # add to the list\n",
    "        soup = BeautifulSoup(requests.get(url).text,\"html.parser\") # parser\n",
    "        # use the class function what makes the page to next\n",
    "        next_links = soup.find_all(class_='lister-page-next next-page') #Extracts the next page link.\n",
    "        if (len(next_links) == 0):         # If their is no next page, it returns 0.\n",
    "            url = None\n",
    "        else:\n",
    "            next_page = \"https://www.imdb.com\" + next_links[0].get('href')\n",
    "            url = next_page\n",
    "            print(url)\n",
    "    return all_urls"
   ]
  },
  {
   "cell_type": "code",
   "execution_count": 48,
   "metadata": {},
   "outputs": [
    {
     "name": "stdout",
     "output_type": "stream",
     "text": [
      "https://www.imdb.com/search/title/?title_type=feature&year=1990-01-01,1990-12-31&count=100&start=101\n",
      "https://www.imdb.com/search/title/?title_type=feature&year=1990-01-01,1990-12-31&count=100&start=201\n",
      "https://www.imdb.com/search/title/?title_type=feature&year=1990-01-01,1990-12-31&count=100&start=301\n",
      "https://www.imdb.com/search/title/?title_type=feature&year=1990-01-01,1990-12-31&count=100&start=401\n",
      "https://www.imdb.com/search/title/?title_type=feature&year=1990-01-01,1990-12-31&count=100&start=501\n",
      "https://www.imdb.com/search/title/?title_type=feature&year=1990-01-01,1990-12-31&count=100&start=601\n",
      "https://www.imdb.com/search/title/?title_type=feature&year=1990-01-01,1990-12-31&count=100&start=701\n",
      "https://www.imdb.com/search/title/?title_type=feature&year=1990-01-01,1990-12-31&count=100&start=801\n",
      "https://www.imdb.com/search/title/?title_type=feature&year=1990-01-01,1990-12-31&count=100&start=901\n",
      "https://www.imdb.com/search/title/?title_type=feature&year=1990-01-01,1990-12-31&count=100&start=1001\n",
      "https://www.imdb.com/search/title/?title_type=feature&year=1990-01-01,1990-12-31&count=100&start=1101\n",
      "https://www.imdb.com/search/title/?title_type=feature&year=1990-01-01,1990-12-31&count=100&start=1201\n",
      "https://www.imdb.com/search/title/?title_type=feature&year=1990-01-01,1990-12-31&count=100&start=1301\n",
      "https://www.imdb.com/search/title/?title_type=feature&year=1990-01-01,1990-12-31&count=100&start=1401\n",
      "https://www.imdb.com/search/title/?title_type=feature&year=1990-01-01,1990-12-31&count=100&start=1501\n",
      "https://www.imdb.com/search/title/?title_type=feature&year=1990-01-01,1990-12-31&count=100&start=1601\n",
      "https://www.imdb.com/search/title/?title_type=feature&year=1990-01-01,1990-12-31&count=100&start=1701\n",
      "https://www.imdb.com/search/title/?title_type=feature&year=1990-01-01,1990-12-31&count=100&start=1801\n",
      "https://www.imdb.com/search/title/?title_type=feature&year=1990-01-01,1990-12-31&count=100&start=1901\n",
      "https://www.imdb.com/search/title/?title_type=feature&year=1990-01-01,1990-12-31&count=100&start=2001\n",
      "https://www.imdb.com/search/title/?title_type=feature&year=1990-01-01,1990-12-31&count=100&start=2101\n",
      "https://www.imdb.com/search/title/?title_type=feature&year=1990-01-01,1990-12-31&count=100&start=2201\n",
      "https://www.imdb.com/search/title/?title_type=feature&year=1990-01-01,1990-12-31&count=100&start=2301\n",
      "https://www.imdb.com/search/title/?title_type=feature&year=1990-01-01,1990-12-31&count=100&start=2401\n",
      "https://www.imdb.com/search/title/?title_type=feature&year=1990-01-01,1990-12-31&count=100&start=2501\n",
      "https://www.imdb.com/search/title/?title_type=feature&year=1990-01-01,1990-12-31&count=100&start=2601\n",
      "https://www.imdb.com/search/title/?title_type=feature&year=1990-01-01,1990-12-31&count=100&start=2701\n",
      "https://www.imdb.com/search/title/?title_type=feature&year=1990-01-01,1990-12-31&count=100&start=2801\n",
      "https://www.imdb.com/search/title/?title_type=feature&year=1990-01-01,1990-12-31&count=100&start=2901\n",
      "https://www.imdb.com/search/title/?title_type=feature&year=1990-01-01,1990-12-31&count=100&start=3001\n",
      "https://www.imdb.com/search/title/?title_type=feature&year=1990-01-01,1990-12-31&count=100&start=3101\n",
      "https://www.imdb.com/search/title/?title_type=feature&year=1990-01-01,1990-12-31&count=100&start=3201\n",
      "https://www.imdb.com/search/title/?title_type=feature&year=1990-01-01,1990-12-31&count=100&start=3301\n",
      "https://www.imdb.com/search/title/?title_type=feature&year=1990-01-01,1990-12-31&count=100&start=3401\n",
      "https://www.imdb.com/search/title/?title_type=feature&year=1990-01-01,1990-12-31&count=100&start=3501\n",
      "https://www.imdb.com/search/title/?title_type=feature&year=1990-01-01,1990-12-31&count=100&start=3601\n",
      "https://www.imdb.com/search/title/?title_type=feature&year=1990-01-01,1990-12-31&count=100&start=3701\n",
      "https://www.imdb.com/search/title/?title_type=feature&year=1990-01-01,1990-12-31&count=100&start=3801\n"
     ]
    },
    {
     "data": {
      "text/plain": [
       "['https://www.imdb.com/search/title/?title_type=feature&year=1990-01-01,1990-12-31&count=100&start=1&ref_=adv_nxt',\n",
       " 'https://www.imdb.com/search/title/?title_type=feature&year=1990-01-01,1990-12-31&count=100&start=101',\n",
       " 'https://www.imdb.com/search/title/?title_type=feature&year=1990-01-01,1990-12-31&count=100&start=201',\n",
       " 'https://www.imdb.com/search/title/?title_type=feature&year=1990-01-01,1990-12-31&count=100&start=301',\n",
       " 'https://www.imdb.com/search/title/?title_type=feature&year=1990-01-01,1990-12-31&count=100&start=401',\n",
       " 'https://www.imdb.com/search/title/?title_type=feature&year=1990-01-01,1990-12-31&count=100&start=501',\n",
       " 'https://www.imdb.com/search/title/?title_type=feature&year=1990-01-01,1990-12-31&count=100&start=601',\n",
       " 'https://www.imdb.com/search/title/?title_type=feature&year=1990-01-01,1990-12-31&count=100&start=701',\n",
       " 'https://www.imdb.com/search/title/?title_type=feature&year=1990-01-01,1990-12-31&count=100&start=801',\n",
       " 'https://www.imdb.com/search/title/?title_type=feature&year=1990-01-01,1990-12-31&count=100&start=901',\n",
       " 'https://www.imdb.com/search/title/?title_type=feature&year=1990-01-01,1990-12-31&count=100&start=1001',\n",
       " 'https://www.imdb.com/search/title/?title_type=feature&year=1990-01-01,1990-12-31&count=100&start=1101',\n",
       " 'https://www.imdb.com/search/title/?title_type=feature&year=1990-01-01,1990-12-31&count=100&start=1201',\n",
       " 'https://www.imdb.com/search/title/?title_type=feature&year=1990-01-01,1990-12-31&count=100&start=1301',\n",
       " 'https://www.imdb.com/search/title/?title_type=feature&year=1990-01-01,1990-12-31&count=100&start=1401',\n",
       " 'https://www.imdb.com/search/title/?title_type=feature&year=1990-01-01,1990-12-31&count=100&start=1501',\n",
       " 'https://www.imdb.com/search/title/?title_type=feature&year=1990-01-01,1990-12-31&count=100&start=1601',\n",
       " 'https://www.imdb.com/search/title/?title_type=feature&year=1990-01-01,1990-12-31&count=100&start=1701',\n",
       " 'https://www.imdb.com/search/title/?title_type=feature&year=1990-01-01,1990-12-31&count=100&start=1801',\n",
       " 'https://www.imdb.com/search/title/?title_type=feature&year=1990-01-01,1990-12-31&count=100&start=1901',\n",
       " 'https://www.imdb.com/search/title/?title_type=feature&year=1990-01-01,1990-12-31&count=100&start=2001',\n",
       " 'https://www.imdb.com/search/title/?title_type=feature&year=1990-01-01,1990-12-31&count=100&start=2101',\n",
       " 'https://www.imdb.com/search/title/?title_type=feature&year=1990-01-01,1990-12-31&count=100&start=2201',\n",
       " 'https://www.imdb.com/search/title/?title_type=feature&year=1990-01-01,1990-12-31&count=100&start=2301',\n",
       " 'https://www.imdb.com/search/title/?title_type=feature&year=1990-01-01,1990-12-31&count=100&start=2401',\n",
       " 'https://www.imdb.com/search/title/?title_type=feature&year=1990-01-01,1990-12-31&count=100&start=2501',\n",
       " 'https://www.imdb.com/search/title/?title_type=feature&year=1990-01-01,1990-12-31&count=100&start=2601',\n",
       " 'https://www.imdb.com/search/title/?title_type=feature&year=1990-01-01,1990-12-31&count=100&start=2701',\n",
       " 'https://www.imdb.com/search/title/?title_type=feature&year=1990-01-01,1990-12-31&count=100&start=2801',\n",
       " 'https://www.imdb.com/search/title/?title_type=feature&year=1990-01-01,1990-12-31&count=100&start=2901',\n",
       " 'https://www.imdb.com/search/title/?title_type=feature&year=1990-01-01,1990-12-31&count=100&start=3001',\n",
       " 'https://www.imdb.com/search/title/?title_type=feature&year=1990-01-01,1990-12-31&count=100&start=3101',\n",
       " 'https://www.imdb.com/search/title/?title_type=feature&year=1990-01-01,1990-12-31&count=100&start=3201',\n",
       " 'https://www.imdb.com/search/title/?title_type=feature&year=1990-01-01,1990-12-31&count=100&start=3301',\n",
       " 'https://www.imdb.com/search/title/?title_type=feature&year=1990-01-01,1990-12-31&count=100&start=3401',\n",
       " 'https://www.imdb.com/search/title/?title_type=feature&year=1990-01-01,1990-12-31&count=100&start=3501',\n",
       " 'https://www.imdb.com/search/title/?title_type=feature&year=1990-01-01,1990-12-31&count=100&start=3601',\n",
       " 'https://www.imdb.com/search/title/?title_type=feature&year=1990-01-01,1990-12-31&count=100&start=3701',\n",
       " 'https://www.imdb.com/search/title/?title_type=feature&year=1990-01-01,1990-12-31&count=100&start=3801']"
      ]
     },
     "execution_count": 48,
     "metadata": {},
     "output_type": "execute_result"
    }
   ],
   "source": [
    "all_imdb_page(url)"
   ]
  },
  {
   "cell_type": "markdown",
   "metadata": {},
   "source": [
    "# Finally, write and save the infomation into CSV files"
   ]
  },
  {
   "cell_type": "code",
   "execution_count": 49,
   "metadata": {},
   "outputs": [],
   "source": [
    "def get_imdb_movies(start_year, end_year):    \n",
    "    start_year = str(start_year) # get the begin year\n",
    "    end_year = str(end_year) # get the end year\n",
    "    url = get_imdb_url(start_year, end_year) # helper function to build url for start and end year\n",
    "    imdb_movies = get_imdb_movie_detail(url) # get all the movie detail from helper function\n",
    "    # give the columns new titles\n",
    "    imdb_col_list = ['Title','Year','IMDB Rating','Rated','Duration','Genre','Metascore','Votes','Gross USD']\n",
    "    imdb_df = pd.DataFrame(imdb_movies, columns = imdb_col_list)\n",
    "    \n",
    "    # write all the oscar winning movies for the period into one file\n",
    "    csv_name = 'imdb_movies_'+start_year+'-'+end_year+'.csv'\n",
    "    print('imdb movies are also saved in {} file'.format(csv_name))\n",
    "    \n",
    "    #create a directory to post the files by year\n",
    "    os.makedirs('movies_data', exist_ok=True)\n",
    "    # make the data frame group by year as a dictionary\n",
    "    imdb_movies_year = {j: imdb_df[imdb_df['Year'] == j] for j in imdb_df['Year'].unique()} \n",
    "    #loop thru key, value in dictionary to write the files\n",
    "    for k, v in imdb_movies_year.items():\n",
    "        v.to_csv('movies_data\\imdb_movies_'+'{}.csv'.format(k), index=None)\n",
    "    return imdb_df"
   ]
  },
  {
   "cell_type": "markdown",
   "metadata": {},
   "source": [
    "lets do a helper function to get all the pages between start and end year"
   ]
  },
  {
   "cell_type": "code",
   "execution_count": 50,
   "metadata": {},
   "outputs": [],
   "source": [
    "def get_imdb_url(start_year, end_year):    \n",
    "    base_url = 'https://www.imdb.com/search/title/?title_type=feature&'\n",
    "    year = 'year='\n",
    "    sep = ','\n",
    "    tail_url = '&count=100&start=1&ref_=adv_nxt'\n",
    "    imdb_url = base_url + year + start_year + sep + end_year + tail_url\n",
    "    return imdb_url"
   ]
  },
  {
   "cell_type": "markdown",
   "metadata": {},
   "source": [
    "Create a helper function to go thru each page and also the number of movies in that page"
   ]
  },
  {
   "cell_type": "code",
   "execution_count": 51,
   "metadata": {},
   "outputs": [],
   "source": [
    "def get_imdb_movie_detail(url):\n",
    "    imdb_movies = [] # list of movies of data \n",
    "\n",
    "    for link in all_imdb_page(url):     #Runs the function for all the pages.\n",
    "        imdb_soup = BeautifulSoup(requests.get(url).text, 'html.parser') #Extracts out the main html code.\n",
    "        imdb_containers = imdb_soup.find_all(\"div\",{\"class\" : \"lister-item mode-advanced\"}) # get all the containers \n",
    "        #print(len(imdb_containers))\n",
    "\n",
    "        #loop through all the movies in the container to get the attributes\n",
    "        for imdb in imdb_containers: \n",
    "            imdb_movies.append(get_movie_info(imdb))\n",
    "        return imdb_movies"
   ]
  },
  {
   "cell_type": "markdown",
   "metadata": {},
   "source": [
    "Getting all the IMDb Movie data"
   ]
  },
  {
   "cell_type": "code",
   "execution_count": 52,
   "metadata": {},
   "outputs": [],
   "source": [
    "def get_movie_info(imdb):\n",
    "    name = imdb.h3.a.text\n",
    "    year = imdb.h3.find('span', class_ = 'lister-item-year text-muted unbold')\n",
    "    movie_year = pd.to_numeric(year.text.replace('(','').replace(')','').replace('I',''))\n",
    "    rating = float(imdb.strong.text)\n",
    "    certificate = get_certificate(imdb) \n",
    "    duration = imdb.find('span', class_ = 'runtime').text\n",
    "    genre = imdb.find('span', class_ = 'genre').text.strip()\n",
    "    metascore = meta_score(imdb)\n",
    "    votes, gross = votes_and_gross(imdb)\n",
    "    movie_info = [name, movie_year, rating, certificate, duration, genre, metascore, votes, gross]\n",
    "    return movie_info"
   ]
  },
  {
   "cell_type": "markdown",
   "metadata": {},
   "source": [
    "Created helper functions to get Movie certificate, metascore, votes, gross"
   ]
  },
  {
   "cell_type": "code",
   "execution_count": 53,
   "metadata": {},
   "outputs": [],
   "source": [
    "def get_certificate(imdb):\n",
    "    # cases where there is no certificate assigned - lets give default as Not Rated\n",
    "    if imdb.find('span', class_ = 'certificate') is not None:\n",
    "        cert = imdb.find('span', class_ = 'certificate').text\n",
    "    else:\n",
    "        cert = 'Not Rated'\n",
    "    return cert"
   ]
  },
  {
   "cell_type": "code",
   "execution_count": 54,
   "metadata": {},
   "outputs": [],
   "source": [
    "def meta_score(imdb):\n",
    "    # for most of the movies metascore is not available and for those default to 0\n",
    "    if imdb.find('span', class_ = 'metascore favorable') is not None:\n",
    "        meta = imdb.find('span', class_ = 'metascore favorable').text\n",
    "    else:\n",
    "        meta = '0'\n",
    "    return int(meta)"
   ]
  },
  {
   "cell_type": "code",
   "execution_count": 55,
   "metadata": {},
   "outputs": [],
   "source": [
    "def votes_and_gross(imdb):\n",
    "    imdb = imdb.find_all('span',{\"name\":\"nv\"})\n",
    "    votes_and_gross_list = []\n",
    "    for data_value in imdb:\n",
    "        votes_and_gross_list.append(data_value.text)\n",
    "    if(len(imdb)==2):\n",
    "        votes=votes_and_gross_list[0]\n",
    "        gross = votes_and_gross_list[1]\n",
    "    else:\n",
    "        votes=votes_and_gross_list[0]\n",
    "        gross = None   \n",
    "    return votes,gross"
   ]
  },
  {
   "cell_type": "code",
   "execution_count": 56,
   "metadata": {},
   "outputs": [
    {
     "name": "stdout",
     "output_type": "stream",
     "text": [
      "https://www.imdb.com/search/title/?title_type=feature&year=1990-01-01,1990-12-31&count=100&start=101\n",
      "https://www.imdb.com/search/title/?title_type=feature&year=1990-01-01,1990-12-31&count=100&start=201\n",
      "https://www.imdb.com/search/title/?title_type=feature&year=1990-01-01,1990-12-31&count=100&start=301\n",
      "https://www.imdb.com/search/title/?title_type=feature&year=1990-01-01,1990-12-31&count=100&start=401\n",
      "https://www.imdb.com/search/title/?title_type=feature&year=1990-01-01,1990-12-31&count=100&start=501\n",
      "https://www.imdb.com/search/title/?title_type=feature&year=1990-01-01,1990-12-31&count=100&start=601\n",
      "https://www.imdb.com/search/title/?title_type=feature&year=1990-01-01,1990-12-31&count=100&start=701\n",
      "https://www.imdb.com/search/title/?title_type=feature&year=1990-01-01,1990-12-31&count=100&start=801\n",
      "https://www.imdb.com/search/title/?title_type=feature&year=1990-01-01,1990-12-31&count=100&start=901\n",
      "https://www.imdb.com/search/title/?title_type=feature&year=1990-01-01,1990-12-31&count=100&start=1001\n",
      "https://www.imdb.com/search/title/?title_type=feature&year=1990-01-01,1990-12-31&count=100&start=1101\n",
      "https://www.imdb.com/search/title/?title_type=feature&year=1990-01-01,1990-12-31&count=100&start=1201\n",
      "https://www.imdb.com/search/title/?title_type=feature&year=1990-01-01,1990-12-31&count=100&start=1301\n",
      "https://www.imdb.com/search/title/?title_type=feature&year=1990-01-01,1990-12-31&count=100&start=1401\n",
      "https://www.imdb.com/search/title/?title_type=feature&year=1990-01-01,1990-12-31&count=100&start=1501\n",
      "https://www.imdb.com/search/title/?title_type=feature&year=1990-01-01,1990-12-31&count=100&start=1601\n",
      "https://www.imdb.com/search/title/?title_type=feature&year=1990-01-01,1990-12-31&count=100&start=1701\n",
      "https://www.imdb.com/search/title/?title_type=feature&year=1990-01-01,1990-12-31&count=100&start=1801\n",
      "https://www.imdb.com/search/title/?title_type=feature&year=1990-01-01,1990-12-31&count=100&start=1901\n",
      "https://www.imdb.com/search/title/?title_type=feature&year=1990-01-01,1990-12-31&count=100&start=2001\n",
      "https://www.imdb.com/search/title/?title_type=feature&year=1990-01-01,1990-12-31&count=100&start=2101\n",
      "https://www.imdb.com/search/title/?title_type=feature&year=1990-01-01,1990-12-31&count=100&start=2201\n",
      "https://www.imdb.com/search/title/?title_type=feature&year=1990-01-01,1990-12-31&count=100&start=2301\n",
      "https://www.imdb.com/search/title/?title_type=feature&year=1990-01-01,1990-12-31&count=100&start=2401\n",
      "https://www.imdb.com/search/title/?title_type=feature&year=1990-01-01,1990-12-31&count=100&start=2501\n",
      "https://www.imdb.com/search/title/?title_type=feature&year=1990-01-01,1990-12-31&count=100&start=2601\n",
      "https://www.imdb.com/search/title/?title_type=feature&year=1990-01-01,1990-12-31&count=100&start=2701\n",
      "https://www.imdb.com/search/title/?title_type=feature&year=1990-01-01,1990-12-31&count=100&start=2801\n",
      "https://www.imdb.com/search/title/?title_type=feature&year=1990-01-01,1990-12-31&count=100&start=2901\n",
      "https://www.imdb.com/search/title/?title_type=feature&year=1990-01-01,1990-12-31&count=100&start=3001\n",
      "https://www.imdb.com/search/title/?title_type=feature&year=1990-01-01,1990-12-31&count=100&start=3101\n",
      "https://www.imdb.com/search/title/?title_type=feature&year=1990-01-01,1990-12-31&count=100&start=3201\n",
      "https://www.imdb.com/search/title/?title_type=feature&year=1990-01-01,1990-12-31&count=100&start=3301\n",
      "https://www.imdb.com/search/title/?title_type=feature&year=1990-01-01,1990-12-31&count=100&start=3401\n",
      "https://www.imdb.com/search/title/?title_type=feature&year=1990-01-01,1990-12-31&count=100&start=3501\n",
      "https://www.imdb.com/search/title/?title_type=feature&year=1990-01-01,1990-12-31&count=100&start=3601\n",
      "https://www.imdb.com/search/title/?title_type=feature&year=1990-01-01,1990-12-31&count=100&start=3701\n",
      "https://www.imdb.com/search/title/?title_type=feature&year=1990-01-01,1990-12-31&count=100&start=3801\n",
      "imdb movies are also saved in imdb_movies_1990-1990.csv file\n"
     ]
    }
   ],
   "source": [
    "imdb_df = get_imdb_movies(1990,1990)"
   ]
  },
  {
   "cell_type": "code",
   "execution_count": 57,
   "metadata": {},
   "outputs": [
    {
     "data": {
      "text/html": [
       "<div>\n",
       "<style scoped>\n",
       "    .dataframe tbody tr th:only-of-type {\n",
       "        vertical-align: middle;\n",
       "    }\n",
       "\n",
       "    .dataframe tbody tr th {\n",
       "        vertical-align: top;\n",
       "    }\n",
       "\n",
       "    .dataframe thead th {\n",
       "        text-align: right;\n",
       "    }\n",
       "</style>\n",
       "<table border=\"1\" class=\"dataframe\">\n",
       "  <thead>\n",
       "    <tr style=\"text-align: right;\">\n",
       "      <th></th>\n",
       "      <th>Title</th>\n",
       "      <th>Year</th>\n",
       "      <th>IMDB Rating</th>\n",
       "      <th>Rated</th>\n",
       "      <th>Duration</th>\n",
       "      <th>Genre</th>\n",
       "      <th>Metascore</th>\n",
       "      <th>Votes</th>\n",
       "      <th>Gross USD</th>\n",
       "    </tr>\n",
       "  </thead>\n",
       "  <tbody>\n",
       "    <tr>\n",
       "      <td>0</td>\n",
       "      <td>Goodfellas</td>\n",
       "      <td>1990</td>\n",
       "      <td>8.7</td>\n",
       "      <td>A</td>\n",
       "      <td>146 min</td>\n",
       "      <td>Biography, Crime, Drama</td>\n",
       "      <td>90</td>\n",
       "      <td>1,043,061</td>\n",
       "      <td>$46.84M</td>\n",
       "    </tr>\n",
       "    <tr>\n",
       "      <td>1</td>\n",
       "      <td>Tremors</td>\n",
       "      <td>1990</td>\n",
       "      <td>7.1</td>\n",
       "      <td>Not Rated</td>\n",
       "      <td>96 min</td>\n",
       "      <td>Comedy, Horror</td>\n",
       "      <td>65</td>\n",
       "      <td>122,981</td>\n",
       "      <td>$16.67M</td>\n",
       "    </tr>\n",
       "    <tr>\n",
       "      <td>2</td>\n",
       "      <td>Dances with Wolves</td>\n",
       "      <td>1990</td>\n",
       "      <td>8.0</td>\n",
       "      <td>U</td>\n",
       "      <td>181 min</td>\n",
       "      <td>Adventure, Drama, Western</td>\n",
       "      <td>72</td>\n",
       "      <td>245,400</td>\n",
       "      <td>$184.21M</td>\n",
       "    </tr>\n",
       "    <tr>\n",
       "      <td>3</td>\n",
       "      <td>Total Recall</td>\n",
       "      <td>1990</td>\n",
       "      <td>7.5</td>\n",
       "      <td>A</td>\n",
       "      <td>113 min</td>\n",
       "      <td>Action, Sci-Fi, Thriller</td>\n",
       "      <td>0</td>\n",
       "      <td>307,497</td>\n",
       "      <td>$119.39M</td>\n",
       "    </tr>\n",
       "    <tr>\n",
       "      <td>4</td>\n",
       "      <td>Pretty Woman</td>\n",
       "      <td>1990</td>\n",
       "      <td>7.0</td>\n",
       "      <td>A</td>\n",
       "      <td>119 min</td>\n",
       "      <td>Comedy, Romance</td>\n",
       "      <td>0</td>\n",
       "      <td>296,525</td>\n",
       "      <td>$178.41M</td>\n",
       "    </tr>\n",
       "  </tbody>\n",
       "</table>\n",
       "</div>"
      ],
      "text/plain": [
       "                Title  Year  IMDB Rating      Rated Duration  \\\n",
       "0          Goodfellas  1990          8.7          A  146 min   \n",
       "1             Tremors  1990          7.1  Not Rated   96 min   \n",
       "2  Dances with Wolves  1990          8.0          U  181 min   \n",
       "3        Total Recall  1990          7.5          A  113 min   \n",
       "4        Pretty Woman  1990          7.0          A  119 min   \n",
       "\n",
       "                       Genre  Metascore      Votes Gross USD  \n",
       "0    Biography, Crime, Drama         90  1,043,061   $46.84M  \n",
       "1             Comedy, Horror         65    122,981   $16.67M  \n",
       "2  Adventure, Drama, Western         72    245,400  $184.21M  \n",
       "3   Action, Sci-Fi, Thriller          0    307,497  $119.39M  \n",
       "4            Comedy, Romance          0    296,525  $178.41M  "
      ]
     },
     "execution_count": 57,
     "metadata": {},
     "output_type": "execute_result"
    }
   ],
   "source": [
    "imdb_df[:5]"
   ]
  },
  {
   "cell_type": "code",
   "execution_count": null,
   "metadata": {},
   "outputs": [],
   "source": []
  }
 ],
 "metadata": {
  "kernelspec": {
   "display_name": "Python 3",
   "language": "python",
   "name": "python3"
  },
  "language_info": {
   "codemirror_mode": {
    "name": "ipython",
    "version": 3
   },
   "file_extension": ".py",
   "mimetype": "text/x-python",
   "name": "python",
   "nbconvert_exporter": "python",
   "pygments_lexer": "ipython3",
   "version": "3.7.4"
  }
 },
 "nbformat": 4,
 "nbformat_minor": 2
}
